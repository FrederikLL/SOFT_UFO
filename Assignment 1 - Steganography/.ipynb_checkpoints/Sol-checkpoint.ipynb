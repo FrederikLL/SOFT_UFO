{
 "cells": [
  {
   "cell_type": "code",
   "execution_count": 6,
   "metadata": {},
   "outputs": [
    {
     "name": "stdout",
     "output_type": "stream",
     "text": [
      "Congratulations, this is the secret message of the UFO class! (no, not 42)\n"
     ]
    }
   ],
   "source": [
    "from PIL import Image\n",
    "image = Image.open('7fe3c3f6-Stego.png')\n",
    "pixels = image.load()\n",
    "\n",
    "extracted =''\n",
    "for i in range(0, image.height): \n",
    "    for j in range(0, image.width): \n",
    "        r, g, b, a = pixels[j, i] # (x, y)\n",
    "        extracted += bin(b)[-1] # extract binary (LSB?)\n",
    "\n",
    "secret = ''\n",
    "for i in range(int(len(extracted)/8)): # for every 8th entry...\n",
    "    byte = extracted[i*8:(i+1)*8][::-1] # get 8-bit (byte) combination at index + 8. Reverse for actual order. (LSB?)\n",
    "    if byte == '00000000':\n",
    "        break\n",
    "    secret += chr(int(byte, 2)) #convert byte to integer from base-2 (binary), then finally to char for string representation.\n",
    "\n",
    "print(secret)"
   ]
  }
 ],
 "metadata": {
  "kernelspec": {
   "display_name": "Python 3",
   "language": "python",
   "name": "python3"
  },
  "language_info": {
   "codemirror_mode": {
    "name": "ipython",
    "version": 3
   },
   "file_extension": ".py",
   "mimetype": "text/x-python",
   "name": "python",
   "nbconvert_exporter": "python",
   "pygments_lexer": "ipython3",
   "version": "3.7.5"
  }
 },
 "nbformat": 4,
 "nbformat_minor": 4
}
