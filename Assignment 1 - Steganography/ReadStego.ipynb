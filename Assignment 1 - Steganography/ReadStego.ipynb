{
 "cells": [
  {
   "cell_type": "code",
   "execution_count": 4,
   "metadata": {},
   "outputs": [
    {
     "ename": "TypeError",
     "evalue": "'PngImageFile' object is not iterable",
     "output_type": "error",
     "traceback": [
      "\u001b[1;31m---------------------------------------------------------------------------\u001b[0m",
      "\u001b[1;31mTypeError\u001b[0m                                 Traceback (most recent call last)",
      "\u001b[1;32m<ipython-input-4-f7112854b15f>\u001b[0m in \u001b[0;36m<module>\u001b[1;34m\u001b[0m\n\u001b[0;32m     25\u001b[0m \u001b[1;33m\u001b[0m\u001b[0m\n\u001b[0;32m     26\u001b[0m \u001b[0mdata\u001b[0m \u001b[1;33m=\u001b[0m \u001b[1;34m\"\"\u001b[0m\u001b[1;33m\u001b[0m\u001b[1;33m\u001b[0m\u001b[0m\n\u001b[1;32m---> 27\u001b[1;33m \u001b[1;32mfor\u001b[0m \u001b[0mvalues\u001b[0m \u001b[1;32min\u001b[0m \u001b[0mimage\u001b[0m\u001b[1;33m:\u001b[0m\u001b[1;33m\u001b[0m\u001b[1;33m\u001b[0m\u001b[0m\n\u001b[0m\u001b[0;32m     28\u001b[0m     \u001b[1;32mfor\u001b[0m \u001b[0mpixel\u001b[0m \u001b[1;32min\u001b[0m \u001b[0mvalues\u001b[0m\u001b[1;33m:\u001b[0m\u001b[1;33m\u001b[0m\u001b[1;33m\u001b[0m\u001b[0m\n\u001b[0;32m     29\u001b[0m         \u001b[0mprint\u001b[0m\u001b[1;33m(\u001b[0m\u001b[0mpixel\u001b[0m\u001b[1;33m)\u001b[0m\u001b[1;33m\u001b[0m\u001b[1;33m\u001b[0m\u001b[0m\n",
      "\u001b[1;31mTypeError\u001b[0m: 'PngImageFile' object is not iterable"
     ]
    }
   ],
   "source": [
    "import cv2\n",
    "import numpy as np\n",
    "import types\n",
    "from IPython.display import Image\n",
    "from PIL import Image\n",
    "image = Image.open('7fe3c3f6-Stego.png')\n",
    "pixels = image.load()\n",
    "\n",
    "\n",
    "#print(data)\n",
    "#print(all_bytes)\n",
    "\n",
    "\n",
    "\n",
    "def messageToBinary(message):\n",
    "    if type(message) == str:\n",
    "        return''.join([format(ord(i),\"08b\") for i in message])\n",
    "    elif type(message) == bytes or type(message) == np.ndarray:\n",
    "        return [ format(i, \"08b\") for i in message]\n",
    "    elif type(message) == int or type(message)==np.uint8:\n",
    "        return format(message, \"08b\")\n",
    "    else:\n",
    "        return None\n",
    "\n",
    "\n",
    "data = \"\"\n",
    "for values in image:\n",
    "    for pixel in values:\n",
    "        print(pixel)\n",
    "        #print(type(image1))\n",
    "        r, g, b = messageToBinary(pixel)\n",
    "        dataa += r[-1]\n",
    "        dataa += g[-1]\n",
    "        data += b[-1]\n",
    "        #[-1]\n",
    "\n",
    "all_bytes = [ data[i:i+8] for i in range(0, len(data),8)]\n",
    "        \n",
    "#print(all_bytez)\n",
    "#decoded = \"\"\n",
    "#decodedz = \"\"\n",
    "#for byte in all_bytes:\n",
    "    #for i in range(8)\n",
    "    #print(byte)\n",
    "    #[-1:]\n",
    "    #if decoded == '00000000':\n",
    "    #if byte != '00000000':\n",
    "        #decodedz +=chr(int(byte,2))\n",
    "   # else:\n",
    "        #break\n",
    "    \n",
    "    \n",
    "    #decoded += chr(int(byte,2))\n",
    "    #print(decoded)\n",
    "    #if decoded == '00000000':\n",
    "        #break\n",
    "\n",
    "    \n",
    "\n",
    "#decoded"
   ]
  }
 ],
 "metadata": {
  "kernelspec": {
   "display_name": "Python 3",
   "language": "python",
   "name": "python3"
  },
  "language_info": {
   "codemirror_mode": {
    "name": "ipython",
    "version": 3
   },
   "file_extension": ".py",
   "mimetype": "text/x-python",
   "name": "python",
   "nbconvert_exporter": "python",
   "pygments_lexer": "ipython3",
   "version": "3.7.5"
  }
 },
 "nbformat": 4,
 "nbformat_minor": 4
}
